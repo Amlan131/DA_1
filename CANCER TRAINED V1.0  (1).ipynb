{
 "cells": [
  {
   "cell_type": "markdown",
   "id": "82549b4d-d38b-4707-a286-ef15ca0bad91",
   "metadata": {},
   "source": [
    "# cancer TRAIN"
   ]
  },
  {
   "cell_type": "code",
   "execution_count": 4,
   "id": "46298832-2aa2-400e-aadf-af6bf7f9f78c",
   "metadata": {},
   "outputs": [],
   "source": [
    "import numpy as np\n",
    "import tensorflow as tf\n",
    "from keras.preprocessing.image import ImageDataGenerator\n",
    "import matplotlib.pyplot as plt"
   ]
  },
  {
   "cell_type": "code",
   "execution_count": 5,
   "id": "f1603d2a-d4a2-4240-9ca2-f2193db5b32a",
   "metadata": {},
   "outputs": [],
   "source": [
    "\n",
    "gpus = tf.config.experimental.list_physical_devices('GPU')\n",
    "for gpu in gpus:\n",
    "    tf.config.experimental.set_memory_growth(gpu, True)"
   ]
  },
  {
   "cell_type": "markdown",
   "id": "4db81bdd-d768-4868-83f1-c39d034b10b8",
   "metadata": {},
   "source": [
    "## preprocess the data"
   ]
  },
  {
   "cell_type": "code",
   "execution_count": 6,
   "id": "eabeab40-0400-48f0-86da-95a00c47778c",
   "metadata": {},
   "outputs": [
    {
     "name": "stdout",
     "output_type": "stream",
     "text": [
      "Found 4745 files belonging to 2 classes.\n",
      "['benign', 'malignant']\n"
     ]
    }
   ],
   "source": [
    "\n",
    "\n",
    "\n",
    "# //Data Preprocessing\n",
    "# Training Image preprocessing\n",
    "training_set = tf.keras.utils.image_dataset_from_directory(\n",
    " r\"D:\\01 STUDY MATERIAL\\ai project\\Breast-Splitted\\train\",\n",
    "    labels=\"inferred\",\n",
    "    label_mode=\"categorical\",\n",
    "    class_names=None,\n",
    "    color_mode=\"rgb\",\n",
    "    batch_size=4,\n",
    "    image_size=(128, 128),\n",
    "    shuffle=True,\n",
    "    seed=None,\n",
    "    validation_split=None,\n",
    "    subset=None,\n",
    "    interpolation=\"bilinear\",\n",
    "    follow_links=False,\n",
    "    crop_to_aspect_ratio=False\n",
    ")\n",
    "class_name = training_set.class_names\n",
    "print(class_name)"
   ]
  },
  {
   "cell_type": "markdown",
   "id": "800c09d9-fa24-4f26-9212-5ae18d9c895f",
   "metadata": {},
   "source": [
    "\n",
    "### Validation Image Preprocessing"
   ]
  },
  {
   "cell_type": "code",
   "execution_count": 7,
   "id": "b6f31541-a63c-4a29-af0f-196c4641f156",
   "metadata": {},
   "outputs": [
    {
     "name": "stdout",
     "output_type": "stream",
     "text": [
      "Found 1581 files belonging to 2 classes.\n",
      "['benign', 'malignant']\n"
     ]
    }
   ],
   "source": [
    "\n",
    "validation_set = tf.keras.utils.image_dataset_from_directory(\n",
    "  r\"D:\\01 STUDY MATERIAL\\ai project\\Breast-Splitted\\val\",\n",
    "    labels=\"inferred\",\n",
    "    label_mode=\"categorical\",\n",
    "    class_names=None,\n",
    "    color_mode=\"rgb\",\n",
    "    batch_size=4,\n",
    "    image_size=(128, 128),\n",
    "    shuffle=True,\n",
    "    seed=None,\n",
    "    validation_split=None,\n",
    "    subset=None,\n",
    "    interpolation=\"bilinear\",\n",
    "    follow_links=False,\n",
    "    crop_to_aspect_ratio=False\n",
    ")\n",
    "class_name = validation_set.class_names\n",
    "print(class_name)"
   ]
  },
  {
   "cell_type": "markdown",
   "id": "097c6e53-2fa5-4cb8-ba5f-0fcfaf9c7620",
   "metadata": {},
   "source": [
    "# Building Model"
   ]
  },
  {
   "cell_type": "code",
   "execution_count": 8,
   "id": "16ae3033-858e-4ece-9e2d-8e5e72fa9be1",
   "metadata": {},
   "outputs": [],
   "source": [
    "cnn = tf.keras.models.Sequential()"
   ]
  },
  {
   "cell_type": "markdown",
   "id": "ddde57cf-f001-4825-b0e6-20963e8d365b",
   "metadata": {},
   "source": [
    "## Building Convolution Layer"
   ]
  },
  {
   "cell_type": "code",
   "execution_count": 9,
   "id": "7a74308b-9563-4345-b53e-df12f409b421",
   "metadata": {},
   "outputs": [],
   "source": [
    "cnn.add(tf.keras.layers.Conv2D(filters=32,kernel_size=3,padding='same',activation='relu',input_shape=[128,128,3]))\n",
    "cnn.add(tf.keras.layers.Conv2D(filters=32,kernel_size=3,activation='relu'))\n",
    "cnn.add(tf.keras.layers.MaxPool2D(pool_size=2,strides=2))"
   ]
  },
  {
   "cell_type": "code",
   "execution_count": 10,
   "id": "3a2ff313-9a38-41ac-b101-bd89eb02ec01",
   "metadata": {},
   "outputs": [],
   "source": [
    "cnn.add(tf.keras.layers.Conv2D(filters=64,kernel_size=3,padding='same',activation='relu'))\n",
    "cnn.add(tf.keras.layers.Conv2D(filters=64,kernel_size=3,activation='relu'))\n",
    "cnn.add(tf.keras.layers.MaxPool2D(pool_size=2,strides=2))"
   ]
  },
  {
   "cell_type": "code",
   "execution_count": 11,
   "id": "12fb1fb2-b8f4-4f78-aace-b305239e3767",
   "metadata": {},
   "outputs": [],
   "source": [
    "cnn.add(tf.keras.layers.Conv2D(filters=128,kernel_size=3,padding='same',activation='relu'))\n",
    "cnn.add(tf.keras.layers.Conv2D(filters=128,kernel_size=3,activation='relu'))\n",
    "cnn.add(tf.keras.layers.MaxPool2D(pool_size=2,strides=2))"
   ]
  },
  {
   "cell_type": "code",
   "execution_count": 12,
   "id": "c882ae84-4b76-46ba-9c4f-7401397ca233",
   "metadata": {},
   "outputs": [],
   "source": [
    "cnn.add(tf.keras.layers.Conv2D(filters=256,kernel_size=3,padding='same',activation='relu'))\n",
    "cnn.add(tf.keras.layers.Conv2D(filters=256,kernel_size=3,activation='relu'))\n",
    "cnn.add(tf.keras.layers.MaxPool2D(pool_size=2,strides=2))"
   ]
  },
  {
   "cell_type": "code",
   "execution_count": 13,
   "id": "927da872-c1da-40fa-9fcf-e26605ac5a39",
   "metadata": {},
   "outputs": [],
   "source": [
    "cnn.add(tf.keras.layers.Dropout(0.25))"
   ]
  },
  {
   "cell_type": "code",
   "execution_count": 14,
   "id": "22feba4c-b2ed-41f3-bd21-c940e7d8491e",
   "metadata": {},
   "outputs": [],
   "source": [
    "cnn.add(tf.keras.layers.Flatten())"
   ]
  },
  {
   "cell_type": "code",
   "execution_count": 15,
   "id": "874e6c08-8b5b-48ae-a798-6fe0afcae77d",
   "metadata": {},
   "outputs": [],
   "source": [
    "cnn.add(tf.keras.layers.Dense(units=1500,activation='relu'))"
   ]
  },
  {
   "cell_type": "code",
   "execution_count": 16,
   "id": "2438271c-8a57-4a53-bf25-c5c12d768ce5",
   "metadata": {},
   "outputs": [],
   "source": [
    "cnn.add(tf.keras.layers.Dropout(0.4)) #To avoid overfitting"
   ]
  },
  {
   "cell_type": "code",
   "execution_count": 17,
   "id": "8f03b434-3cf4-4c77-900d-b80c3892b1af",
   "metadata": {},
   "outputs": [],
   "source": [
    "#Output Layer\n",
    "cnn.add(tf.keras.layers.Dense(units=2,activation='sigmoid'))"
   ]
  },
  {
   "cell_type": "code",
   "execution_count": null,
   "id": "33d7dff3-5083-4d0f-a4bf-698a9eb5fa94",
   "metadata": {},
   "outputs": [],
   "source": []
  },
  {
   "cell_type": "markdown",
   "id": "4f3bfd59-386f-4a55-8bbd-4f0a5d8a8f38",
   "metadata": {},
   "source": [
    "## Compiling and Training Phase"
   ]
  },
  {
   "cell_type": "code",
   "execution_count": 18,
   "id": "bfb594f6-cb12-478e-9a59-912c9388cb07",
   "metadata": {},
   "outputs": [],
   "source": [
    "cnn.compile(optimizer=tf.keras.optimizers.legacy.Adam(\n",
    "    learning_rate=0.0001),loss='binary_crossentropy',metrics=['accuracy'])"
   ]
  },
  {
   "cell_type": "code",
   "execution_count": 19,
   "id": "71bdafb4-c639-4f67-be06-7593564de135",
   "metadata": {},
   "outputs": [
    {
     "name": "stdout",
     "output_type": "stream",
     "text": [
      "Model: \"sequential\"\n",
      "_________________________________________________________________\n",
      " Layer (type)                Output Shape              Param #   \n",
      "=================================================================\n",
      " conv2d (Conv2D)             (None, 128, 128, 32)      896       \n",
      "                                                                 \n",
      " conv2d_1 (Conv2D)           (None, 126, 126, 32)      9248      \n",
      "                                                                 \n",
      " max_pooling2d (MaxPooling2D  (None, 63, 63, 32)       0         \n",
      " )                                                               \n",
      "                                                                 \n",
      " conv2d_2 (Conv2D)           (None, 63, 63, 64)        18496     \n",
      "                                                                 \n",
      " conv2d_3 (Conv2D)           (None, 61, 61, 64)        36928     \n",
      "                                                                 \n",
      " max_pooling2d_1 (MaxPooling  (None, 30, 30, 64)       0         \n",
      " 2D)                                                             \n",
      "                                                                 \n",
      " conv2d_4 (Conv2D)           (None, 30, 30, 128)       73856     \n",
      "                                                                 \n",
      " conv2d_5 (Conv2D)           (None, 28, 28, 128)       147584    \n",
      "                                                                 \n",
      " max_pooling2d_2 (MaxPooling  (None, 14, 14, 128)      0         \n",
      " 2D)                                                             \n",
      "                                                                 \n",
      " conv2d_6 (Conv2D)           (None, 14, 14, 256)       295168    \n",
      "                                                                 \n",
      " conv2d_7 (Conv2D)           (None, 12, 12, 256)       590080    \n",
      "                                                                 \n",
      " max_pooling2d_3 (MaxPooling  (None, 6, 6, 256)        0         \n",
      " 2D)                                                             \n",
      "                                                                 \n",
      " dropout (Dropout)           (None, 6, 6, 256)         0         \n",
      "                                                                 \n",
      " flatten (Flatten)           (None, 9216)              0         \n",
      "                                                                 \n",
      " dense (Dense)               (None, 1500)              13825500  \n",
      "                                                                 \n",
      " dropout_1 (Dropout)         (None, 1500)              0         \n",
      "                                                                 \n",
      " dense_1 (Dense)             (None, 2)                 3002      \n",
      "                                                                 \n",
      "=================================================================\n",
      "Total params: 15,000,758\n",
      "Trainable params: 15,000,758\n",
      "Non-trainable params: 0\n",
      "_________________________________________________________________\n"
     ]
    }
   ],
   "source": [
    "cnn.summary()"
   ]
  },
  {
   "cell_type": "code",
   "execution_count": 20,
   "id": "a3ba8c19-a8db-4e92-b6c3-907825364722",
   "metadata": {},
   "outputs": [
    {
     "name": "stdout",
     "output_type": "stream",
     "text": [
      "Epoch 1/10\n",
      "1187/1187 [==============================] - 23s 14ms/step - loss: 0.5513 - accuracy: 0.7583 - val_loss: 0.5055 - val_accuracy: 0.8027\n",
      "Epoch 2/10\n",
      "1187/1187 [==============================] - 16s 14ms/step - loss: 0.4748 - accuracy: 0.8063 - val_loss: 0.4729 - val_accuracy: 0.8109\n",
      "Epoch 3/10\n",
      "1187/1187 [==============================] - 16s 14ms/step - loss: 0.4420 - accuracy: 0.8333 - val_loss: 0.4960 - val_accuracy: 0.8242\n",
      "Epoch 4/10\n",
      "1187/1187 [==============================] - 16s 14ms/step - loss: 0.3989 - accuracy: 0.8548 - val_loss: 0.3815 - val_accuracy: 0.8564\n",
      "Epoch 5/10\n",
      "1187/1187 [==============================] - 16s 14ms/step - loss: 0.3885 - accuracy: 0.8626 - val_loss: 0.3614 - val_accuracy: 0.8703\n",
      "Epoch 6/10\n",
      "1187/1187 [==============================] - 16s 14ms/step - loss: 0.3794 - accuracy: 0.8660 - val_loss: 0.3514 - val_accuracy: 0.8722\n",
      "Epoch 7/10\n",
      "1187/1187 [==============================] - 16s 14ms/step - loss: 0.3492 - accuracy: 0.8717 - val_loss: 0.4022 - val_accuracy: 0.8665\n",
      "Epoch 8/10\n",
      "1187/1187 [==============================] - 16s 14ms/step - loss: 0.3353 - accuracy: 0.8717 - val_loss: 0.3446 - val_accuracy: 0.8760\n",
      "Epoch 9/10\n",
      "1187/1187 [==============================] - 16s 14ms/step - loss: 0.3131 - accuracy: 0.8843 - val_loss: 0.3404 - val_accuracy: 0.8697\n",
      "Epoch 10/10\n",
      "1187/1187 [==============================] - 16s 14ms/step - loss: 0.2955 - accuracy: 0.8839 - val_loss: 0.3230 - val_accuracy: 0.8748\n"
     ]
    }
   ],
   "source": [
    "training_history = cnn.fit(x=training_set,validation_data=validation_set,epochs=10)"
   ]
  },
  {
   "cell_type": "markdown",
   "id": "bb123570-2290-4229-ac60-031e9b6430e9",
   "metadata": {},
   "source": [
    "# Evaluating Model"
   ]
  },
  {
   "cell_type": "code",
   "execution_count": 21,
   "id": "d93840b4-6114-4a0c-a397-132fc317f777",
   "metadata": {},
   "outputs": [
    {
     "name": "stdout",
     "output_type": "stream",
     "text": [
      "1187/1187 [==============================] - 6s 5ms/step - loss: 0.2486 - accuracy: 0.9041\n",
      "Training accuracy: 0.9041095972061157\n"
     ]
    }
   ],
   "source": [
    "#Training set Accuracy\n",
    "train_loss, train_acc = cnn.evaluate(training_set)\n",
    "print('Training accuracy:', train_acc)"
   ]
  },
  {
   "cell_type": "code",
   "execution_count": 22,
   "id": "2461b32f-9181-40d3-9dab-d98eaf6c8f22",
   "metadata": {},
   "outputs": [
    {
     "name": "stdout",
     "output_type": "stream",
     "text": [
      "396/396 [==============================] - 2s 5ms/step - loss: 0.3230 - accuracy: 0.8748\n",
      "Validation accuracy: 0.8747628331184387\n"
     ]
    }
   ],
   "source": [
    "#Validation set Accuracy\n",
    "val_loss, val_acc = cnn.evaluate(validation_set)\n",
    "print('Validation accuracy:', val_acc)"
   ]
  },
  {
   "cell_type": "code",
   "execution_count": 23,
   "id": "d59b8960-00f5-42c7-8120-6535721ca1d6",
   "metadata": {},
   "outputs": [],
   "source": [
    "cnn.save('trnew_cancer_modelv1.0.keras')"
   ]
  },
  {
   "cell_type": "code",
   "execution_count": 24,
   "id": "da63fce9-5266-467e-924e-dfe205bb6705",
   "metadata": {},
   "outputs": [
    {
     "data": {
      "text/plain": [
       "{'loss': [0.5512648820877075,\n",
       "  0.4747887849807739,\n",
       "  0.4420156478881836,\n",
       "  0.39887040853500366,\n",
       "  0.388454407453537,\n",
       "  0.3794495761394501,\n",
       "  0.3492189943790436,\n",
       "  0.33529233932495117,\n",
       "  0.3130831718444824,\n",
       "  0.29554569721221924],\n",
       " 'accuracy': [0.7582718729972839,\n",
       "  0.806322455406189,\n",
       "  0.8332982063293457,\n",
       "  0.8547945022583008,\n",
       "  0.8625922203063965,\n",
       "  0.8659641742706299,\n",
       "  0.8716543912887573,\n",
       "  0.8716543912887573,\n",
       "  0.8842992782592773,\n",
       "  0.8838777542114258],\n",
       " 'val_loss': [0.5055041909217834,\n",
       "  0.47289153933525085,\n",
       "  0.49602824449539185,\n",
       "  0.3814983665943146,\n",
       "  0.3614308536052704,\n",
       "  0.35138577222824097,\n",
       "  0.4021930992603302,\n",
       "  0.344621866941452,\n",
       "  0.3404453694820404,\n",
       "  0.3230063319206238],\n",
       " 'val_accuracy': [0.8026565313339233,\n",
       "  0.8108791708946228,\n",
       "  0.824161946773529,\n",
       "  0.8564199805259705,\n",
       "  0.8703352212905884,\n",
       "  0.8722327351570129,\n",
       "  0.8665401935577393,\n",
       "  0.8760278224945068,\n",
       "  0.8697026968002319,\n",
       "  0.8747628331184387]}"
      ]
     },
     "execution_count": 24,
     "metadata": {},
     "output_type": "execute_result"
    }
   ],
   "source": [
    "training_history.history"
   ]
  },
  {
   "cell_type": "code",
   "execution_count": 25,
   "id": "20a289c7-96d6-4698-840c-95a859de6aeb",
   "metadata": {},
   "outputs": [],
   "source": [
    "import json\n",
    "with open('training_hist_cancer.json','w') as f:\n",
    "  json.dump(training_history.history,f)"
   ]
  },
  {
   "cell_type": "code",
   "execution_count": 26,
   "id": "789e0972-2a9c-423a-b718-25237d3b40c7",
   "metadata": {},
   "outputs": [
    {
     "name": "stdout",
     "output_type": "stream",
     "text": [
      "dict_keys(['loss', 'accuracy', 'val_loss', 'val_accuracy'])\n"
     ]
    }
   ],
   "source": [
    "print(training_history.history.keys())"
   ]
  },
  {
   "cell_type": "markdown",
   "id": "96edcff3-a374-4337-a150-1bf760bdb8d2",
   "metadata": {},
   "source": [
    "## ACCUracy visual"
   ]
  },
  {
   "cell_type": "code",
   "execution_count": 27,
   "id": "862a8c83-605b-4c87-9398-6a9efdbc0f1b",
   "metadata": {},
   "outputs": [
    {
     "data": {
      "image/png": "[encoded data removed]",
      "text/plain": [
       "<Figure size 640x480 with 1 Axes>"
      ]
     },
     "metadata": {},
     "output_type": "display_data"
    }
   ],
   "source": [
    "epochs = [i for i in range(1,11)]\n",
    "plt.plot(epochs,training_history.history['accuracy'],color='red',label='Training Accuracy')\n",
    "plt.plot(epochs,training_history.history['val_accuracy'],color='blue',label='Validation Accuracy')\n",
    "plt.xlabel('No. of Epochs')\n",
    "plt.title('Visualization of Accuracy Result')\n",
    "plt.legend()\n",
    "plt.show()"
   ]
  },
  {
   "cell_type": "markdown",
   "id": "a41a0c5a-b77d-4c14-a567-ef7edf468324",
   "metadata": {},
   "source": [
    "## Some other metrics for model evaluation"
   ]
  },
  {
   "cell_type": "code",
   "execution_count": 28,
   "id": "21c181c3-aa21-44d7-a539-c01b3459b64d",
   "metadata": {},
   "outputs": [],
   "source": [
    "class_name = validation_set.class_names"
   ]
  },
  {
   "cell_type": "code",
   "execution_count": 29,
   "id": "ea435ecb-5262-4475-af5c-ad85ef70e847",
   "metadata": {},
   "outputs": [
    {
     "name": "stdout",
     "output_type": "stream",
     "text": [
      "Found 1583 files belonging to 2 classes.\n"
     ]
    }
   ],
   "source": [
    "test_set = tf.keras.utils.image_dataset_from_directory(\n",
    "   r\"D:\\01 STUDY MATERIAL\\ai project\\Breast-Splitted\\test\",\n",
    "    labels=\"inferred\",\n",
    "    label_mode=\"categorical\",\n",
    "    class_names=None,\n",
    "    color_mode=\"rgb\",\n",
    "    batch_size=1,\n",
    "    image_size=(128, 128),\n",
    "    shuffle=False,\n",
    "    seed=None,\n",
    "    validation_split=None,\n",
    "    subset=None,\n",
    "    interpolation=\"bilinear\",\n",
    "    follow_links=False,\n",
    "    crop_to_aspect_ratio=False\n",
    ")"
   ]
  },
  {
   "cell_type": "code",
   "execution_count": 30,
   "id": "d6be429c-1951-4e8f-a07b-cf660d3ced4d",
   "metadata": {},
   "outputs": [
    {
     "name": "stdout",
     "output_type": "stream",
     "text": [
      "1583/1583 [==============================] - 5s 3ms/step\n"
     ]
    }
   ],
   "source": [
    "y_pred = cnn.predict(test_set)\n",
    "predicted_categories = tf.argmax(y_pred, axis=1)"
   ]
  },
  {
   "cell_type": "code",
   "execution_count": 31,
   "id": "706953fd-3b4e-40e6-9189-3e6291745e02",
   "metadata": {},
   "outputs": [],
   "source": [
    "true_categories = tf.concat([y for x, y in test_set], axis=0)\n",
    "Y_true = tf.argmax(true_categories, axis=1)"
   ]
  },
  {
   "cell_type": "code",
   "execution_count": 32,
   "id": "0663817c-c65f-4e9b-8613-a30c0bd83934",
   "metadata": {},
   "outputs": [
    {
     "data": {
      "text/plain": [
       "<tf.Tensor: shape=(1583,), dtype=int64, numpy=array([0, 0, 0, ..., 1, 1, 1], dtype=int64)>"
      ]
     },
     "execution_count": 32,
     "metadata": {},
     "output_type": "execute_result"
    }
   ],
   "source": [
    "Y_true"
   ]
  },
  {
   "cell_type": "code",
   "execution_count": 33,
   "id": "becc61fe-2d1d-4194-8cec-7418cbdfa7b3",
   "metadata": {},
   "outputs": [
    {
     "data": {
      "text/plain": [
       "<tf.Tensor: shape=(1583,), dtype=int64, numpy=array([0, 0, 1, ..., 1, 0, 0], dtype=int64)>"
      ]
     },
     "execution_count": 33,
     "metadata": {},
     "output_type": "execute_result"
    }
   ],
   "source": [
    "predicted_categories"
   ]
  },
  {
   "cell_type": "code",
   "execution_count": 34,
   "id": "3b636d83-710b-48c1-9cdb-9ca29d0f095a",
   "metadata": {},
   "outputs": [],
   "source": [
    "from sklearn.metrics import confusion_matrix,classification_report\n",
    "cm = confusion_matrix(Y_true,predicted_categories)"
   ]
  },
  {
   "cell_type": "code",
   "execution_count": 35,
   "id": "04435071-fbbb-4c92-a0d2-f1001aceb2e7",
   "metadata": {},
   "outputs": [
    {
     "ename": "SyntaxError",
     "evalue": "iterable argument unpacking follows keyword argument unpacking (4134644860.py, line 1)",
     "output_type": "error",
     "traceback": [
      "\u001b[1;36m  Cell \u001b[1;32mIn[35], line 1\u001b[1;36m\u001b[0m\n\u001b[1;33m    sklearn.metrics.roc_auc_score(y_true, y_score, *, average='macro', sample_weight=None, max_fpr=None, multi_class='raise', labels=None)\u001b[0m\n\u001b[1;37m                                  ^\u001b[0m\n\u001b[1;31mSyntaxError\u001b[0m\u001b[1;31m:\u001b[0m iterable argument unpacking follows keyword argument unpacking\n"
     ]
    }
   ],
   "source": [
    "sklearn.metrics.roc_auc_score(y_true, y_score, *, average='macro', sample_weight=None, max_fpr=None, multi_class='raise', labels=None)"
   ]
  },
  {
   "cell_type": "code",
   "execution_count": 31,
   "id": "dc2843e7-d893-4996-9bfc-86166f1272f6",
   "metadata": {},
   "outputs": [
    {
     "name": "stdout",
     "output_type": "stream",
     "text": [
      "              precision    recall  f1-score   support\n",
      "\n",
      "      benign       0.78      0.79      0.78       496\n",
      "   malignant       0.90      0.90      0.90      1087\n",
      "\n",
      "    accuracy                           0.86      1583\n",
      "   macro avg       0.84      0.84      0.84      1583\n",
      "weighted avg       0.86      0.86      0.86      1583\n",
      "\n"
     ]
    }
   ],
   "source": [
    "# Precision Recall Fscore\n",
    "print(classification_report(Y_true,predicted_categories,target_names=class_name))"
   ]
  },
  {
   "cell_type": "markdown",
   "id": "daf02217-8e32-4ccd-b71a-fd6816d1ce05",
   "metadata": {},
   "source": [
    "## Confusion Matrix Visualization"
   ]
  },
  {
   "cell_type": "code",
   "execution_count": 1,
   "id": "9c6a3c4c-5db5-490b-917c-4232791c30b6",
   "metadata": {},
   "outputs": [
    {
     "ename": "NameError",
     "evalue": "name 'plt' is not defined",
     "output_type": "error",
     "traceback": [
      "\u001b[1;31m---------------------------------------------------------------------------\u001b[0m",
      "\u001b[1;31mNameError\u001b[0m                                 Traceback (most recent call last)",
      "Cell \u001b[1;32mIn[1], line 2\u001b[0m\n\u001b[0;32m      1\u001b[0m \u001b[38;5;28;01mimport\u001b[39;00m \u001b[38;5;21;01mseaborn\u001b[39;00m \u001b[38;5;28;01mas\u001b[39;00m \u001b[38;5;21;01msns\u001b[39;00m\n\u001b[1;32m----> 2\u001b[0m \u001b[43mplt\u001b[49m\u001b[38;5;241m.\u001b[39mfigure(figsize\u001b[38;5;241m=\u001b[39m(\u001b[38;5;241m40\u001b[39m, \u001b[38;5;241m40\u001b[39m))\n\u001b[0;32m      3\u001b[0m sns\u001b[38;5;241m.\u001b[39mheatmap(cm,annot\u001b[38;5;241m=\u001b[39m\u001b[38;5;28;01mTrue\u001b[39;00m,annot_kws\u001b[38;5;241m=\u001b[39m{\u001b[38;5;124m\"\u001b[39m\u001b[38;5;124msize\u001b[39m\u001b[38;5;124m\"\u001b[39m: \u001b[38;5;241m10\u001b[39m})\n\u001b[0;32m      5\u001b[0m plt\u001b[38;5;241m.\u001b[39mxlabel(\u001b[38;5;124m'\u001b[39m\u001b[38;5;124mPredicted Class\u001b[39m\u001b[38;5;124m'\u001b[39m,fontsize \u001b[38;5;241m=\u001b[39m \u001b[38;5;241m20\u001b[39m)\n",
      "\u001b[1;31mNameError\u001b[0m: name 'plt' is not defined"
     ]
    }
   ],
   "source": [
    "import seaborn as sns\n",
    "plt.figure(figsize=(40, 40))\n",
    "sns.heatmap(cm,annot=True,annot_kws={\"size\": 10})\n",
    "\n",
    "plt.xlabel('Predicted Class',fontsize = 20)\n",
    "plt.ylabel('Actual Class',fontsize = 20)\n",
    "plt.title('Plant Disease Prediction Confusion Matrix',fontsize = 25)\n",
    "plt.show()"
   ]
  },
  {
   "cell_type": "code",
   "execution_count": null,
   "id": "4993f74a-c2b2-49d8-80c7-4304d89c9cb6",
   "metadata": {},
   "outputs": [],
   "source": []
  }
 ],
 "metadata": {
  "kernelspec": {
   "display_name": "Python 3 (ipykernel)",
   "language": "python",
   "name": "python3"
  },
  "language_info": {
   "codemirror_mode": {
    "name": "ipython",
    "version": 3
   },
   "file_extension": ".py",
   "mimetype": "text/x-python",
   "name": "python",
   "nbconvert_exporter": "python",
   "pygments_lexer": "ipython3",
   "version": "3.10.16"
  }
 },
 "nbformat": 4,
 "nbformat_minor": 5
}
